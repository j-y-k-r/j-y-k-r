{
  "nbformat": 4,
  "nbformat_minor": 0,
  "metadata": {
    "colab": {
      "provenance": [],
      "authorship_tag": "ABX9TyMWMYXRmRNChBhQoBGqHe7l",
      "include_colab_link": true
    },
    "kernelspec": {
      "name": "python3",
      "display_name": "Python 3"
    },
    "language_info": {
      "name": "python"
    }
  },
  "cells": [
    {
      "cell_type": "markdown",
      "metadata": {
        "id": "view-in-github",
        "colab_type": "text"
      },
      "source": [
        "<a href=\"https://colab.research.google.com/github/j-y-k-r/j-y-k-r/blob/main/Untitled5.ipynb\" target=\"_parent\"><img src=\"https://colab.research.google.com/assets/colab-badge.svg\" alt=\"Open In Colab\"/></a>"
      ]
    },
    {
      "cell_type": "code",
      "execution_count": 53,
      "metadata": {
        "colab": {
          "base_uri": "https://localhost:8080/"
        },
        "id": "jtFZuhO3zVLK",
        "outputId": "01cea8ec-79c1-46cb-bab6-7f4779d8d8f1"
      },
      "outputs": [
        {
          "output_type": "stream",
          "name": "stdout",
          "text": [
            "git version 2.25.1\n"
          ]
        }
      ],
      "source": [
        "!git --version"
      ]
    },
    {
      "cell_type": "code",
      "source": [
        "!git --help"
      ],
      "metadata": {
        "colab": {
          "base_uri": "https://localhost:8080/"
        },
        "id": "bob3y_qszWvG",
        "outputId": "cf58448b-bd36-4ef3-f46d-e1c711315139"
      },
      "execution_count": 4,
      "outputs": [
        {
          "output_type": "stream",
          "name": "stdout",
          "text": [
            "usage: git [--version] [--help] [-C <path>] [-c <name>=<value>]\n",
            "           [--exec-path[=<path>]] [--html-path] [--man-path] [--info-path]\n",
            "           [-p | --paginate | -P | --no-pager] [--no-replace-objects] [--bare]\n",
            "           [--git-dir=<path>] [--work-tree=<path>] [--namespace=<name>]\n",
            "           <command> [<args>]\n",
            "\n",
            "These are common Git commands used in various situations:\n",
            "\n",
            "start a working area (see also: git help tutorial)\n",
            "   clone             Clone a repository into a new directory\n",
            "   init              Create an empty Git repository or reinitialize an existing one\n",
            "\n",
            "work on the current change (see also: git help everyday)\n",
            "   add               Add file contents to the index\n",
            "   mv                Move or rename a file, a directory, or a symlink\n",
            "   restore           Restore working tree files\n",
            "   rm                Remove files from the working tree and from the index\n",
            "   sparse-checkout   Initialize and modify the sparse-checkout\n",
            "\n",
            "examine the history and state (see also: git help revisions)\n",
            "   bisect            Use binary search to find the commit that introduced a bug\n",
            "   diff              Show changes between commits, commit and working tree, etc\n",
            "   grep              Print lines matching a pattern\n",
            "   log               Show commit logs\n",
            "   show              Show various types of objects\n",
            "   status            Show the working tree status\n",
            "\n",
            "grow, mark and tweak your common history\n",
            "   branch            List, create, or delete branches\n",
            "   commit            Record changes to the repository\n",
            "   merge             Join two or more development histories together\n",
            "   rebase            Reapply commits on top of another base tip\n",
            "   reset             Reset current HEAD to the specified state\n",
            "   switch            Switch branches\n",
            "   tag               Create, list, delete or verify a tag object signed with GPG\n",
            "\n",
            "collaborate (see also: git help workflows)\n",
            "   fetch             Download objects and refs from another repository\n",
            "   pull              Fetch from and integrate with another repository or a local branch\n",
            "   push              Update remote refs along with associated objects\n",
            "\n",
            "'git help -a' and 'git help -g' list available subcommands and some\n",
            "concept guides. See 'git help <command>' or 'git help <concept>'\n",
            "to read about a specific subcommand or concept.\n",
            "See 'git help git' for an overview of the system.\n"
          ]
        }
      ]
    },
    {
      "cell_type": "code",
      "source": [
        "!git config --global user.name \"j-y-k-r\""
      ],
      "metadata": {
        "id": "YMffx2M2zhS_"
      },
      "execution_count": 27,
      "outputs": []
    },
    {
      "cell_type": "code",
      "source": [
        "!git config --global user.email \"ee19b028@smail.iitm.ac.in\""
      ],
      "metadata": {
        "id": "FofX9Okozxwa"
      },
      "execution_count": 34,
      "outputs": []
    },
    {
      "cell_type": "code",
      "source": [
        "!git config --global --list"
      ],
      "metadata": {
        "colab": {
          "base_uri": "https://localhost:8080/"
        },
        "id": "4UIif8rh1jV0",
        "outputId": "5dcb33ef-d92a-4b2e-958a-7c370edb1bd7"
      },
      "execution_count": 29,
      "outputs": [
        {
          "output_type": "stream",
          "name": "stdout",
          "text": [
            "user.name=j-y-k-r\n",
            "user.email=jaikyfeb9@gmail.com\n"
          ]
        }
      ]
    },
    {
      "cell_type": "code",
      "source": [
        "from google.colab import drive\n",
        "drive.mount('/content/drive')"
      ],
      "metadata": {
        "colab": {
          "base_uri": "https://localhost:8080/"
        },
        "id": "9oAf48Uj1nF8",
        "outputId": "10e17eac-b454-43e2-a6dc-9b0e121d7189"
      },
      "execution_count": 2,
      "outputs": [
        {
          "output_type": "stream",
          "name": "stdout",
          "text": [
            "Mounted at /content/drive\n"
          ]
        }
      ]
    },
    {
      "cell_type": "code",
      "source": [
        "ls"
      ],
      "metadata": {
        "colab": {
          "base_uri": "https://localhost:8080/"
        },
        "id": "bC_aZlpK2SjL",
        "outputId": "9223eea5-dc6a-4eff-ccf1-c27baea1d1f2"
      },
      "execution_count": 14,
      "outputs": [
        {
          "output_type": "stream",
          "name": "stdout",
          "text": [
            "\u001b[0m\u001b[01;34mdrive\u001b[0m/  \u001b[01;34msample_data\u001b[0m/\n"
          ]
        }
      ]
    },
    {
      "cell_type": "code",
      "source": [
        "pwd"
      ],
      "metadata": {
        "colab": {
          "base_uri": "https://localhost:8080/",
          "height": 36
        },
        "id": "G50CQADY2Z0C",
        "outputId": "a94fbba6-74ed-4b62-ed0e-5d0eb5e9fc7c"
      },
      "execution_count": 21,
      "outputs": [
        {
          "output_type": "execute_result",
          "data": {
            "text/plain": [
              "'/content/drive/MyDrive/FODL_assign2'"
            ],
            "application/vnd.google.colaboratory.intrinsic+json": {
              "type": "string"
            }
          },
          "metadata": {},
          "execution_count": 21
        }
      ]
    },
    {
      "cell_type": "code",
      "source": [
        "cd ."
      ],
      "metadata": {
        "colab": {
          "base_uri": "https://localhost:8080/"
        },
        "id": "VjcvYehF2kC5",
        "outputId": "d737d4d0-cbe3-4505-a9d3-8f15d1aa413d"
      },
      "execution_count": 23,
      "outputs": [
        {
          "output_type": "stream",
          "name": "stdout",
          "text": [
            "/content/drive/MyDrive/FODL_assign2\n"
          ]
        }
      ]
    },
    {
      "cell_type": "code",
      "source": [
        "cd .."
      ],
      "metadata": {
        "colab": {
          "base_uri": "https://localhost:8080/"
        },
        "id": "zi-wC6Cr2q6z",
        "outputId": "7abe9286-582b-4cf3-a867-c98a2e026d8b"
      },
      "execution_count": 24,
      "outputs": [
        {
          "output_type": "stream",
          "name": "stdout",
          "text": [
            "/content/drive/MyDrive\n"
          ]
        }
      ]
    },
    {
      "cell_type": "code",
      "source": [
        "!git init FODL_assign2"
      ],
      "metadata": {
        "colab": {
          "base_uri": "https://localhost:8080/"
        },
        "id": "xy16qIA73E0g",
        "outputId": "3bc9e9d4-f7a9-4aa4-ea77-1b880646db48"
      },
      "execution_count": 26,
      "outputs": [
        {
          "output_type": "stream",
          "name": "stdout",
          "text": [
            "Initialized empty Git repository in /content/drive/MyDrive/FODL_assign2/.git/\n"
          ]
        }
      ]
    },
    {
      "cell_type": "code",
      "source": [
        "pwd"
      ],
      "metadata": {
        "colab": {
          "base_uri": "https://localhost:8080/",
          "height": 36
        },
        "id": "q_L1a7bK3JmX",
        "outputId": "401ff717-8978-4f33-dfeb-d3544625d57d"
      },
      "execution_count": 3,
      "outputs": [
        {
          "output_type": "execute_result",
          "data": {
            "text/plain": [
              "'/content'"
            ],
            "application/vnd.google.colaboratory.intrinsic+json": {
              "type": "string"
            }
          },
          "metadata": {},
          "execution_count": 3
        }
      ]
    },
    {
      "cell_type": "code",
      "source": [
        "cd FODL_assign2"
      ],
      "metadata": {
        "colab": {
          "base_uri": "https://localhost:8080/"
        },
        "id": "PznK4tG-7kr1",
        "outputId": "9aa8756a-a2b2-4e29-957a-50055fafb17d"
      },
      "execution_count": 30,
      "outputs": [
        {
          "output_type": "stream",
          "name": "stdout",
          "text": [
            "/content/drive/MyDrive/FODL_assign2\n"
          ]
        }
      ]
    },
    {
      "cell_type": "code",
      "source": [
        "!git status"
      ],
      "metadata": {
        "colab": {
          "base_uri": "https://localhost:8080/"
        },
        "id": "-8_cTt328LvW",
        "outputId": "f1c89f9e-5eb4-4272-ccf9-298610c2c0de"
      },
      "execution_count": 32,
      "outputs": [
        {
          "output_type": "stream",
          "name": "stdout",
          "text": [
            "On branch master\n",
            "\n",
            "No commits yet\n",
            "\n",
            "Untracked files:\n",
            "  (use \"git add <file>...\" to include in what will be committed)\n",
            "\t\u001b[31mFODL_assign2.ipynb\u001b[m\n",
            "\t\u001b[31maccuracy.png\u001b[m\n",
            "\t\u001b[31minaturalist_12K/\u001b[m\n",
            "\t\u001b[31mloss.png\u001b[m\n",
            "\t\u001b[31mmodel.pth\u001b[m\n",
            "\t\u001b[31mmodel1.pth\u001b[m\n",
            "\t\u001b[31mnature_12K.zip\u001b[m\n",
            "\n",
            "nothing added to commit but untracked files present (use \"git add\" to track)\n"
          ]
        }
      ]
    },
    {
      "cell_type": "code",
      "source": [
        "!git config --global user.password 'P+JQ3L!v'"
      ],
      "metadata": {
        "id": "qIdSFZZF8l5f"
      },
      "execution_count": 57,
      "outputs": []
    },
    {
      "cell_type": "code",
      "source": [
        "!git add --all"
      ],
      "metadata": {
        "colab": {
          "base_uri": "https://localhost:8080/"
        },
        "id": "rCQTa3BT8NKw",
        "outputId": "9300a64d-1d34-4dc4-c1d6-25e261c4da13"
      },
      "execution_count": 38,
      "outputs": [
        {
          "output_type": "stream",
          "name": "stdout",
          "text": [
            "^C\n"
          ]
        }
      ]
    },
    {
      "cell_type": "code",
      "source": [
        "!git config --global --list"
      ],
      "metadata": {
        "colab": {
          "base_uri": "https://localhost:8080/"
        },
        "id": "5VxveY1j8Q_i",
        "outputId": "451b24e9-0e5b-4ee2-cfee-5a61f4ed5675"
      },
      "execution_count": 58,
      "outputs": [
        {
          "output_type": "stream",
          "name": "stdout",
          "text": [
            "user.name=j_y_k_r\n",
            "user.email=jaikyfeb9@gmail.com\n",
            "user.password=P+JQ3L!v\n"
          ]
        }
      ]
    },
    {
      "cell_type": "code",
      "source": [
        "pwd"
      ],
      "metadata": {
        "colab": {
          "base_uri": "https://localhost:8080/",
          "height": 36
        },
        "id": "jYMHvMVG-CUa",
        "outputId": "3edbe1cd-6084-40b9-a53e-549270eef9be"
      },
      "execution_count": 40,
      "outputs": [
        {
          "output_type": "execute_result",
          "data": {
            "text/plain": [
              "'/content/drive/MyDrive/FODL_assign2'"
            ],
            "application/vnd.google.colaboratory.intrinsic+json": {
              "type": "string"
            }
          },
          "metadata": {},
          "execution_count": 40
        }
      ]
    },
    {
      "cell_type": "code",
      "source": [
        "!git add FODL_assign2.ipynb"
      ],
      "metadata": {
        "id": "nt1GQTxk-G_L"
      },
      "execution_count": 59,
      "outputs": []
    },
    {
      "cell_type": "code",
      "source": [
        "!git commit -a -m \"learning\""
      ],
      "metadata": {
        "colab": {
          "base_uri": "https://localhost:8080/"
        },
        "id": "0MfWw7yP-mW-",
        "outputId": "65cc2fc9-5922-4628-cf2d-ff115c20055f"
      },
      "execution_count": 60,
      "outputs": [
        {
          "output_type": "stream",
          "name": "stdout",
          "text": [
            "On branch master\n",
            "Untracked files:\n",
            "  (use \"git add <file>...\" to include in what will be committed)\n",
            "\t\u001b[31maccuracy.png\u001b[m\n",
            "\t\u001b[31minaturalist_12K/\u001b[m\n",
            "\t\u001b[31mloss.png\u001b[m\n",
            "\t\u001b[31mmodel.pth\u001b[m\n",
            "\t\u001b[31mmodel1.pth\u001b[m\n",
            "\t\u001b[31mnature_12K.zip\u001b[m\n",
            "\n",
            "nothing added to commit but untracked files present (use \"git add\" to track)\n"
          ]
        }
      ]
    },
    {
      "cell_type": "code",
      "source": [
        "!git remote -v"
      ],
      "metadata": {
        "id": "worimKUT-0Jp"
      },
      "execution_count": 61,
      "outputs": []
    },
    {
      "cell_type": "code",
      "source": [
        "!git status"
      ],
      "metadata": {
        "colab": {
          "base_uri": "https://localhost:8080/"
        },
        "id": "D0ieDCkn_Bpf",
        "outputId": "f66812c0-3307-4a91-f11f-644344659cea"
      },
      "execution_count": 51,
      "outputs": [
        {
          "output_type": "stream",
          "name": "stdout",
          "text": [
            "On branch master\n",
            "Untracked files:\n",
            "  (use \"git add <file>...\" to include in what will be committed)\n",
            "\t\u001b[31maccuracy.png\u001b[m\n",
            "\t\u001b[31minaturalist_12K/\u001b[m\n",
            "\t\u001b[31mloss.png\u001b[m\n",
            "\t\u001b[31mmodel.pth\u001b[m\n",
            "\t\u001b[31mmodel1.pth\u001b[m\n",
            "\t\u001b[31mnature_12K.zip\u001b[m\n",
            "\n",
            "nothing added to commit but untracked files present (use \"git add\" to track)\n"
          ]
        }
      ]
    },
    {
      "cell_type": "code",
      "source": [
        "!git push "
      ],
      "metadata": {
        "colab": {
          "base_uri": "https://localhost:8080/"
        },
        "id": "OmfXTIww_Nh9",
        "outputId": "26a5f6ce-611e-43e4-d2ee-f686870b520b"
      },
      "execution_count": 52,
      "outputs": [
        {
          "output_type": "stream",
          "name": "stdout",
          "text": [
            "fatal: No configured push destination.\n",
            "Either specify the URL from the command-line or configure a remote repository using\n",
            "\n",
            "    git remote add <name> <url>\n",
            "\n",
            "and then push using the remote name\n",
            "\n",
            "    git push <name>\n",
            "\n"
          ]
        }
      ]
    },
    {
      "cell_type": "code",
      "source": [
        "!git status"
      ],
      "metadata": {
        "colab": {
          "base_uri": "https://localhost:8080/"
        },
        "id": "ICuWmzOg_mek",
        "outputId": "180c0689-bb54-4a58-b206-31afce2d3128"
      },
      "execution_count": 1,
      "outputs": [
        {
          "output_type": "stream",
          "name": "stdout",
          "text": [
            "fatal: not a git repository (or any of the parent directories): .git\n"
          ]
        }
      ]
    },
    {
      "cell_type": "code",
      "source": [
        "pwd"
      ],
      "metadata": {
        "colab": {
          "base_uri": "https://localhost:8080/",
          "height": 36
        },
        "id": "tyVuyl4G58QU",
        "outputId": "46ef8303-bd06-47b5-bf09-bf5e83daa511"
      },
      "execution_count": 4,
      "outputs": [
        {
          "output_type": "execute_result",
          "data": {
            "text/plain": [
              "'/content'"
            ],
            "application/vnd.google.colaboratory.intrinsic+json": {
              "type": "string"
            }
          },
          "metadata": {},
          "execution_count": 4
        }
      ]
    },
    {
      "cell_type": "code",
      "source": [
        "cd drive/MyDrive/FODL_assign2 "
      ],
      "metadata": {
        "colab": {
          "base_uri": "https://localhost:8080/"
        },
        "id": "pQoHVcVu5-bC",
        "outputId": "1c133ebd-e587-4f33-dc03-f950d8d5becc"
      },
      "execution_count": 12,
      "outputs": [
        {
          "output_type": "stream",
          "name": "stdout",
          "text": [
            "/content/drive/MyDrive/FODL_assign2\n"
          ]
        }
      ]
    },
    {
      "cell_type": "code",
      "source": [
        "ls"
      ],
      "metadata": {
        "colab": {
          "base_uri": "https://localhost:8080/"
        },
        "id": "xtjcSHCW6Cip",
        "outputId": "12d0a001-b5f8-4489-c617-22e16d6c3049"
      },
      "execution_count": 13,
      "outputs": [
        {
          "output_type": "stream",
          "name": "stdout",
          "text": [
            "accuracy.png        \u001b[0m\u001b[01;34minaturalist_12K\u001b[0m/  model1.pth  nature_12K.zip\n",
            "FODL_assign2.ipynb  loss.png          model.pth\n"
          ]
        }
      ]
    },
    {
      "cell_type": "code",
      "source": [
        "!git status"
      ],
      "metadata": {
        "colab": {
          "base_uri": "https://localhost:8080/"
        },
        "id": "_tW3D6iR6Mwx",
        "outputId": "6780828f-972c-44ec-c7e1-5bd004a212b6"
      },
      "execution_count": 14,
      "outputs": [
        {
          "output_type": "stream",
          "name": "stdout",
          "text": [
            "On branch master\n",
            "Changes not staged for commit:\n",
            "  (use \"git add <file>...\" to update what will be committed)\n",
            "  (use \"git restore <file>...\" to discard changes in working directory)\n",
            "\t\u001b[31mmodified:   FODL_assign2.ipynb\u001b[m\n",
            "\n",
            "Untracked files:\n",
            "  (use \"git add <file>...\" to include in what will be committed)\n",
            "\t\u001b[31maccuracy.png\u001b[m\n",
            "\t\u001b[31minaturalist_12K/\u001b[m\n",
            "\t\u001b[31mloss.png\u001b[m\n",
            "\t\u001b[31mmodel.pth\u001b[m\n",
            "\t\u001b[31mmodel1.pth\u001b[m\n",
            "\t\u001b[31mnature_12K.zip\u001b[m\n",
            "\n",
            "no changes added to commit (use \"git add\" and/or \"git commit -a\")\n"
          ]
        }
      ]
    },
    {
      "cell_type": "code",
      "source": [
        "!git add FODL_assign2.ipynb"
      ],
      "metadata": {
        "id": "tbrTRhTs6X8z"
      },
      "execution_count": 16,
      "outputs": []
    },
    {
      "cell_type": "code",
      "source": [
        "!git status"
      ],
      "metadata": {
        "colab": {
          "base_uri": "https://localhost:8080/"
        },
        "id": "EcCjhwV-6lcY",
        "outputId": "8c1a014d-642f-4204-9bda-2ca0f9e7a8a9"
      },
      "execution_count": 17,
      "outputs": [
        {
          "output_type": "stream",
          "name": "stdout",
          "text": [
            "On branch master\n",
            "Changes to be committed:\n",
            "  (use \"git restore --staged <file>...\" to unstage)\n",
            "\t\u001b[32mmodified:   FODL_assign2.ipynb\u001b[m\n",
            "\n",
            "Untracked files:\n",
            "  (use \"git add <file>...\" to include in what will be committed)\n",
            "\t\u001b[31maccuracy.png\u001b[m\n",
            "\t\u001b[31minaturalist_12K/\u001b[m\n",
            "\t\u001b[31mloss.png\u001b[m\n",
            "\t\u001b[31mmodel.pth\u001b[m\n",
            "\t\u001b[31mmodel1.pth\u001b[m\n",
            "\t\u001b[31mnature_12K.zip\u001b[m\n",
            "\n"
          ]
        }
      ]
    },
    {
      "cell_type": "code",
      "source": [
        "!git commit -m '30%'"
      ],
      "metadata": {
        "colab": {
          "base_uri": "https://localhost:8080/"
        },
        "id": "xfEwF9Fb6oi0",
        "outputId": "f4c36f29-b497-4030-9735-b8a116d39339"
      },
      "execution_count": 21,
      "outputs": [
        {
          "output_type": "stream",
          "name": "stdout",
          "text": [
            "[master c71264d] 30%\n",
            " 1 file changed, 1 insertion(+), 1 deletion(-)\n"
          ]
        }
      ]
    },
    {
      "cell_type": "code",
      "source": [
        "!git remote add origin https://github.com/j-y-k-r/FODL-assign2-jan-may-2023.git"
      ],
      "metadata": {
        "colab": {
          "base_uri": "https://localhost:8080/"
        },
        "id": "svP5tIxS6ufv",
        "outputId": "83257486-0b07-4e53-aa08-48d00c012d02"
      },
      "execution_count": 35,
      "outputs": [
        {
          "output_type": "stream",
          "name": "stdout",
          "text": [
            "fatal: remote origin already exists.\n"
          ]
        }
      ]
    },
    {
      "cell_type": "code",
      "source": [
        "!git remote -v"
      ],
      "metadata": {
        "colab": {
          "base_uri": "https://localhost:8080/"
        },
        "id": "yRNJScye67BI",
        "outputId": "1f430cc0-6348-462b-b057-9915d0a61408"
      },
      "execution_count": 36,
      "outputs": [
        {
          "output_type": "stream",
          "name": "stdout",
          "text": [
            "origin\thttps://github.com/j-y-k-r/FODL-assign2-jan-may-2023.git (fetch)\n",
            "origin\thttps://github.com/j-y-k-r/FODL-assign2-jan-may-2023.git (push)\n"
          ]
        }
      ]
    },
    {
      "cell_type": "code",
      "source": [
        "!git push "
      ],
      "metadata": {
        "colab": {
          "base_uri": "https://localhost:8080/"
        },
        "id": "AjzVhJN07VZ4",
        "outputId": "643e0657-053a-4b44-ad61-ef58f8f08589"
      },
      "execution_count": 42,
      "outputs": [
        {
          "output_type": "stream",
          "name": "stdout",
          "text": [
            "fatal: The current branch master has no upstream branch.\n",
            "To push the current branch and set the remote as upstream, use\n",
            "\n",
            "    git push --set-upstream origin master\n",
            "\n"
          ]
        }
      ]
    },
    {
      "cell_type": "code",
      "source": [
        "!git push --set-upstream origin master"
      ],
      "metadata": {
        "colab": {
          "base_uri": "https://localhost:8080/"
        },
        "id": "MDrXaQZW7Z64",
        "outputId": "2bbf97a6-71bd-4afa-ac59-0dda498d2fab"
      },
      "execution_count": 43,
      "outputs": [
        {
          "output_type": "stream",
          "name": "stdout",
          "text": [
            "fatal: could not read Username for 'https://github.com': No such device or address\n"
          ]
        }
      ]
    },
    {
      "cell_type": "code",
      "source": [
        "!git config --list"
      ],
      "metadata": {
        "colab": {
          "base_uri": "https://localhost:8080/"
        },
        "id": "SwoeqOnn7qW2",
        "outputId": "18191758-f322-41c3-e7fd-f47830c419c4"
      },
      "execution_count": 41,
      "outputs": [
        {
          "output_type": "stream",
          "name": "stdout",
          "text": [
            "filter.lfs.required=true\n",
            "filter.lfs.clean=git-lfs clean -- %f\n",
            "filter.lfs.smudge=git-lfs smudge -- %f\n",
            "filter.lfs.process=git-lfs filter-process\n",
            "user.name=j-y-k-r\n",
            "user.email=ee19b028@smail.iitm.ac.in\n",
            "core.repositoryformatversion=0\n",
            "core.filemode=true\n",
            "core.bare=false\n",
            "core.logallrefupdates=true\n",
            "remote.origin.url=https://github.com/j-y-k-r/FODL-assign2-jan-may-2023.git\n",
            "remote.origin.fetch=+refs/heads/*:refs/remotes/origin/*\n"
          ]
        }
      ]
    },
    {
      "cell_type": "code",
      "source": [],
      "metadata": {
        "id": "7nYQaoe28Nmv"
      },
      "execution_count": null,
      "outputs": []
    }
  ]
}